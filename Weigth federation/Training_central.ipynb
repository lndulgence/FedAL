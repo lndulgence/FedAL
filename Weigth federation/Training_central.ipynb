{
 "cells": [
  {
   "cell_type": "code",
   "execution_count": 1,
   "id": "e5036599-9a8e-4d64-8f7d-893f01aefe27",
   "metadata": {},
   "outputs": [
    {
     "name": "stderr",
     "output_type": "stream",
     "text": [
      "2023-06-14 14:09:02.770416: I tensorflow/core/platform/cpu_feature_guard.cc:193] This TensorFlow binary is optimized with oneAPI Deep Neural Network Library (oneDNN) to use the following CPU instructions in performance-critical operations:  AVX2 FMA\n",
      "To enable them in other operations, rebuild TensorFlow with the appropriate compiler flags.\n",
      "2023-06-14 14:09:03.943446: W tensorflow/compiler/xla/stream_executor/platform/default/dso_loader.cc:64] Could not load dynamic library 'libnvinfer.so.7'; dlerror: libnvinfer.so.7: cannot open shared object file: No such file or directory; LD_LIBRARY_PATH: :/usr/local/cuda/lib64:/usr/local/cuda-11.8/lib64\n",
      "2023-06-14 14:09:03.943502: W tensorflow/compiler/xla/stream_executor/platform/default/dso_loader.cc:64] Could not load dynamic library 'libnvinfer_plugin.so.7'; dlerror: libnvinfer_plugin.so.7: cannot open shared object file: No such file or directory; LD_LIBRARY_PATH: :/usr/local/cuda/lib64:/usr/local/cuda-11.8/lib64\n",
      "2023-06-14 14:09:03.943507: W tensorflow/compiler/tf2tensorrt/utils/py_utils.cc:38] TF-TRT Warning: Cannot dlopen some TensorRT libraries. If you would like to use Nvidia GPU with TensorRT, please make sure the missing libraries mentioned above are installed properly.\n"
     ]
    },
    {
     "name": "stdout",
     "output_type": "stream",
     "text": [
      "[PhysicalDevice(name='/physical_device:GPU:0', device_type='GPU')]\n"
     ]
    }
   ],
   "source": [
    "import tensorflow as tf\n",
    "import tensorflow.keras as keras\n",
    "from fedlearner import client, federatedModel"
   ]
  },
  {
   "cell_type": "code",
   "execution_count": 1,
   "id": "1949d00f-aed6-470d-adea-e28b3890a4dc",
   "metadata": {},
   "outputs": [
    {
     "name": "stderr",
     "output_type": "stream",
     "text": [
      "2023-06-14 14:09:48.515937: I tensorflow/core/platform/cpu_feature_guard.cc:193] This TensorFlow binary is optimized with oneAPI Deep Neural Network Library (oneDNN) to use the following CPU instructions in performance-critical operations:  AVX2 FMA\n",
      "To enable them in other operations, rebuild TensorFlow with the appropriate compiler flags.\n",
      "2023-06-14 14:09:49.645529: W tensorflow/compiler/xla/stream_executor/platform/default/dso_loader.cc:64] Could not load dynamic library 'libnvinfer.so.7'; dlerror: libnvinfer.so.7: cannot open shared object file: No such file or directory; LD_LIBRARY_PATH: :/usr/local/cuda/lib64:/usr/local/cuda-11.8/lib64\n",
      "2023-06-14 14:09:49.645586: W tensorflow/compiler/xla/stream_executor/platform/default/dso_loader.cc:64] Could not load dynamic library 'libnvinfer_plugin.so.7'; dlerror: libnvinfer_plugin.so.7: cannot open shared object file: No such file or directory; LD_LIBRARY_PATH: :/usr/local/cuda/lib64:/usr/local/cuda-11.8/lib64\n",
      "2023-06-14 14:09:49.645590: W tensorflow/compiler/tf2tensorrt/utils/py_utils.cc:38] TF-TRT Warning: Cannot dlopen some TensorRT libraries. If you would like to use Nvidia GPU with TensorRT, please make sure the missing libraries mentioned above are installed properly.\n"
     ]
    },
    {
     "name": "stdout",
     "output_type": "stream",
     "text": [
      "[PhysicalDevice(name='/physical_device:GPU:0', device_type='GPU')]\n"
     ]
    }
   ],
   "source": [
    "from fedlearner import client, federatedModel\n",
    "from tensorflow import keras\n",
    "from tensorflow.keras.models import Sequential\n",
    "from tensorflow.keras.layers import Dense, Dropout, Activation, Flatten, Conv2D, MaxPooling2D, BatchNormalization\n",
    "from tensorflow.keras.models import Sequential\n",
    "from tensorflow.keras.layers import Dense, Dropout, Activation, Flatten, Conv2D, MaxPooling2D, BatchNormalization\n",
    "import os\n",
    "import cv2\n",
    "from sklearn.utils import shuffle\n",
    "import numpy as np\n",
    "import tensorflow as tf\n",
    "import tensorflow as tf\n",
    "from tensorflow.keras import Model\n",
    "from tensorflow.keras import regularizers\n",
    "from tensorflow.keras.models import Sequential\n",
    "from tensorflow.keras.layers import Dense, Dropout, Activation, Flatten, Conv2D, MaxPooling2D, BatchNormalization\n",
    "# In[2]:\n",
    "\n",
    "\n",
    "client1= client(\"<client ip>\", \"apikey\")\n",
    "client2= client(\"<client ip>\", \"apikey\")"
   ]
  },
  {
   "cell_type": "code",
   "execution_count": 2,
   "id": "1430bcc0-20c5-4fbf-b97b-00b0e44bb78a",
   "metadata": {},
   "outputs": [],
   "source": [
    "#LOAD YOUR DATA HERE\n"
   ]
  },
  {
   "cell_type": "code",
   "execution_count": 3,
   "id": "1e563f21-2661-483e-b33f-8b5bcf87df1c",
   "metadata": {},
   "outputs": [],
   "source": [
    "def get_CNN(filters):\n",
    "    model = Sequential()\n",
    "\n",
    "    # Block 1\n",
    "    model.add(Conv2D(filters, (3, 3), activation='elu', padding='same', input_shape=(224, 224, 3)))\n",
    "    model.add(Conv2D(filters, (3, 3), activation='elu', padding='same'))\n",
    "    model.add(MaxPooling2D((2, 2), strides=(2, 2)))\n",
    "    model.add(BatchNormalization())\n",
    "\n",
    "    # Block 2\n",
    "    model.add(Conv2D(2*filters, (3, 3), activation='elu', padding='same'))\n",
    "    model.add(Conv2D(2*filters, (3, 3), activation='elu', padding='same'))\n",
    "    model.add(MaxPooling2D((2, 2), strides=(2, 2)))\n",
    "    model.add(BatchNormalization())\n",
    "\n",
    "    # Block 3\n",
    "    model.add(Conv2D(4*filters, (3, 3), activation='elu', padding='same'))\n",
    "    model.add(Conv2D(4*filters, (3, 3), activation='elu', padding='same'))\n",
    "    model.add(Conv2D(4*filters, (3, 3), activation='elu', padding='same'))\n",
    "    model.add(MaxPooling2D((2, 2), strides=(2, 2)))\n",
    "    model.add(BatchNormalization())\n",
    "\n",
    "    # Block 4\n",
    "    model.add(Conv2D(8*filters, (3, 3), activation='elu', padding='same'))\n",
    "    model.add(Conv2D(8*filters, (3, 3), activation='elu', padding='same'))\n",
    "    model.add(Conv2D(8*filters, (3, 3), activation='elu', padding='same'))\n",
    "    model.add(MaxPooling2D((2, 2), strides=(2, 2)))\n",
    "    model.add(BatchNormalization())\n",
    "\n",
    "    # Block 5\n",
    "    model.add(Conv2D(16*filters, (3, 3), activation='elu', padding='same'))\n",
    "    model.add(Conv2D(16*filters, (3, 3), activation='elu', padding='same'))\n",
    "    model.add(Conv2D(16*filters, (3, 3), activation='elu', padding='same'))\n",
    "    model.add(MaxPooling2D((2, 2), strides=(2, 2)))\n",
    "    model.add(BatchNormalization())\n",
    "    \n",
    "    model.add(Conv2D(32*filters, (3, 3), activation='elu', padding='same'))\n",
    "    model.add(Conv2D(32*filters, (3, 3), activation='elu', padding='same'))\n",
    "    model.add(Conv2D(32*filters, (3, 3), activation='elu', padding='same'))\n",
    "    model.add(Conv2D(32*filters, (3, 3), activation='elu', padding='same'))\n",
    "    model.add(MaxPooling2D((2, 2), strides=(2, 2)))\n",
    "    model.add(BatchNormalization())\n",
    "    \n",
    "\n",
    "    \n",
    "    \n",
    "    \n",
    "    model.add(Flatten())\n",
    "\n",
    "\n",
    "    model.add(Dense(256,\n",
    "        kernel_regularizer=regularizers.L1L2(l1=1e-5, l2=1e-4),\n",
    "        bias_regularizer=regularizers.L2(1e-4),\n",
    "        activity_regularizer=regularizers.L2(1e-5)))\n",
    "    model.add(BatchNormalization())\n",
    "    model.add(Activation('elu'))\n",
    "    model.add(Dropout(0.5))\n",
    "    model.add(Dense(128,\n",
    "        kernel_regularizer=regularizers.L1L2(l1=1e-5, l2=1e-4),\n",
    "        bias_regularizer=regularizers.L2(1e-4),\n",
    "        activity_regularizer=regularizers.L2(1e-5)))\n",
    "    model.add(BatchNormalization())\n",
    "    model.add(Activation('elu'))\n",
    "    model.add(Dropout(0.5))\n",
    "    \n",
    "    \n",
    "    model.add(Dense(64,\n",
    "        kernel_regularizer=regularizers.L1L2(l1=1e-5, l2=1e-4),\n",
    "        bias_regularizer=regularizers.L2(1e-4),\n",
    "        activity_regularizer=regularizers.L2(1e-5)))\n",
    "    model.add(BatchNormalization())\n",
    "    model.add(Activation('elu'))\n",
    "\n",
    "    model.add(Dropout(0.5))\n",
    "    model.add(Dense(32,\n",
    "        kernel_regularizer=regularizers.L1L2(l1=1e-5, l2=1e-4),\n",
    "        bias_regularizer=regularizers.L2(1e-4),\n",
    "        activity_regularizer=regularizers.L2(1e-5)))\n",
    "    model.add(BatchNormalization())\n",
    "    model.add(Activation('elu'))\n",
    "    model.add(Dense(1))\n",
    "    model.add(Activation('sigmoid'))\n",
    "    model.compile(loss=keras.losses.BinaryCrossentropy(),\n",
    "            optimizer=keras.optimizers.Adam(learning_rate= 1e-07,beta_2=0.999, epsilon=1e-8, amsgrad=True, clipnorm=1.0, clipvalue=0.5),\n",
    "            metrics=['accuracy', tf.keras.metrics.Recall()])\n",
    "\n",
    "\n",
    "\n",
    "    return model"
   ]
  },
  {
   "cell_type": "code",
   "execution_count": 4,
   "id": "acde6749-8ada-4c19-a316-26e54fbb77d3",
   "metadata": {},
   "outputs": [],
   "source": [
    "def get_DenseNet():\n",
    "    conv = tf.keras.applications.ResNet50V2(\n",
    "    include_top=False,\n",
    "    weights=\"imagenet\",\n",
    "    input_tensor=None,\n",
    "    input_shape=(224,224,3),\n",
    "    pooling=max,\n",
    "    classifier_activation=\"softmax\",\n",
    "    )\n",
    "    model=Sequential()\n",
    "    model.add(conv)\n",
    "\n",
    "    model.add(BatchNormalization())\n",
    "\n",
    "\n",
    "    \n",
    "    \n",
    "    \n",
    "    model.add(Flatten())\n",
    "\n",
    "\n",
    "    model.add(Dense(128,\n",
    "        kernel_regularizer=regularizers.L1L2(l1=1e-5, l2=1e-4),\n",
    "        bias_regularizer=regularizers.L2(1e-4),\n",
    "        activity_regularizer=regularizers.L2(1e-5)))\n",
    "    model.add(BatchNormalization())\n",
    "    model.add(Activation('elu'))\n",
    "    model.add(Dropout(0.5))\n",
    "    \n",
    "    \n",
    "    model.add(Dense(64,\n",
    "        kernel_regularizer=regularizers.L1L2(l1=1e-5, l2=1e-4),\n",
    "        bias_regularizer=regularizers.L2(1e-4),\n",
    "        activity_regularizer=regularizers.L2(1e-5)))\n",
    "    model.add(BatchNormalization())\n",
    "    model.add(Activation('elu'))\n",
    "\n",
    "    model.add(Dropout(0.5))\n",
    "    model.add(Dense(32,\n",
    "        kernel_regularizer=regularizers.L1L2(l1=1e-5, l2=1e-4),\n",
    "        bias_regularizer=regularizers.L2(1e-4),\n",
    "        activity_regularizer=regularizers.L2(1e-5)))\n",
    "    model.add(BatchNormalization())\n",
    "    model.add(Activation('elu'))\n",
    "    model.add(Dense(1))\n",
    "    model.add(Activation('sigmoid'))\n",
    "    model.compile(loss=keras.losses.BinaryCrossentropy(),\n",
    "            optimizer=keras.optimizers.Adam(learning_rate= 1e-07,beta_2=0.999, epsilon=1e-8, amsgrad=True, clipnorm=1.0, clipvalue=0.5),\n",
    "            metrics=['accuracy', tf.keras.metrics.Recall()])\n",
    "    \n",
    "    return model\n"
   ]
  },
  {
   "cell_type": "code",
   "execution_count": 5,
   "id": "a8a070a8-4ba8-4178-92cb-e2eba584a53d",
   "metadata": {},
   "outputs": [
    {
     "name": "stdout",
     "output_type": "stream",
     "text": [
      "okay let's go\n"
     ]
    }
   ],
   "source": [
    "model=get_CNN(10)\n",
    "\n",
    "#model=get_DenseNet()\n",
    "dbparams='./db_parameters.json'\n",
    "\n",
    "# In[10]:\n",
    "print('okay let\\'s go')\n",
    "\n",
    "\n",
    "fedmod=federatedModel(model, 32, [client1, client2], dbparams, 1000, test_set=test)\n",
    "\n",
    "\n",
    "# In[ ]:\n",
    "\n",
    "\n",
    "\n"
   ]
  },
  {
   "cell_type": "code",
   "execution_count": null,
   "id": "44ba965c-d025-4da4-b5c5-34d38447d91f",
   "metadata": {},
   "outputs": [
    {
     "name": "stdout",
     "output_type": "stream",
     "text": [
      "200/200 [==============================] - 6s 7ms/step - loss: 111.8424 - accuracy: 0.5000 - recall: 0.0000e+00\n",
      "200/200 [==============================] - 2s 7ms/step - loss: 14897.8350 - accuracy: 0.4450 - recall: 0.1800\n"
     ]
    },
    {
     "name": "stderr",
     "output_type": "stream",
     "text": [
      "WARNING:absl:Found untraced functions such as _update_step_xla, _jit_compiled_convolution_op, _jit_compiled_convolution_op, _jit_compiled_convolution_op, _jit_compiled_convolution_op while saving (showing 5 of 54). These functions will not be directly callable after loading.\n"
     ]
    },
    {
     "name": "stdout",
     "output_type": "stream",
     "text": [
      "INFO:tensorflow:Assets written to: ./bestmodel-c00ea682-66c6-4cda-8fed-120e456f5500/assets\n"
     ]
    },
    {
     "name": "stderr",
     "output_type": "stream",
     "text": [
      "INFO:tensorflow:Assets written to: ./bestmodel-c00ea682-66c6-4cda-8fed-120e456f5500/assets\n"
     ]
    }
   ],
   "source": [
    "#IN WEIGHT FEDERATION, THE EACH PARAMETER REPRESENTS HOW MANY EPOCHS THE CLIENTS WILL TRAIN FOR EACH ROUND\n",
    "fedmod.fit(each=2)\n"
   ]
  },
  {
   "cell_type": "code",
   "execution_count": null,
   "id": "30ce8c29-6ead-4e6c-a863-a6afbfad2792",
   "metadata": {},
   "outputs": [],
   "source": [
    "#THE LEARNING RATE CAN BE CHANGED AT ANY TIME, CALLS TO FIT WONT REINITIALIZE THE MODEL.\n",
    "fedmod.set_lr(1e-7)\n",
    "fedmod.fit(each=5)"
   ]
  },
  {
   "cell_type": "code",
   "execution_count": null,
   "id": "47d3b54b-3a55-4ea3-8d1d-a656ac302ffe",
   "metadata": {},
   "outputs": [],
   "source": [
    "from matplotlib import pyplot as plt\n",
    "#THE HISTORY OF THE ACCURACY, RECALL, AND LOSS THROUGHOUT THE TRAINING PROCESS CAN BE ACCESSED THROUGH THE FOLLOWING ATTRIBUTES\n",
    "\n",
    "acchist=fedmod.acchistory\n",
    "plt.plot(acchist)"
   ]
  },
  {
   "cell_type": "code",
   "execution_count": null,
   "id": "fc152ad9-a42d-4edd-9572-ce1b7064be89",
   "metadata": {},
   "outputs": [],
   "source": [
    "plt.plot(fedmod.losshistory)"
   ]
  },
  {
   "cell_type": "code",
   "execution_count": null,
   "id": "6cc73b69-daef-4617-b28c-32df6d406997",
   "metadata": {},
   "outputs": [],
   "source": [
    "plt.plot(fedmod.recallhistory)"
   ]
  }
 ],
 "metadata": {
  "kernelspec": {
   "display_name": "Python 3 (ipykernel)",
   "language": "python",
   "name": "python3"
  },
  "language_info": {
   "codemirror_mode": {
    "name": "ipython",
    "version": 3
   },
   "file_extension": ".py",
   "mimetype": "text/x-python",
   "name": "python",
   "nbconvert_exporter": "python",
   "pygments_lexer": "ipython3",
   "version": "3.9.13"
  }
 },
 "nbformat": 4,
 "nbformat_minor": 5
}
